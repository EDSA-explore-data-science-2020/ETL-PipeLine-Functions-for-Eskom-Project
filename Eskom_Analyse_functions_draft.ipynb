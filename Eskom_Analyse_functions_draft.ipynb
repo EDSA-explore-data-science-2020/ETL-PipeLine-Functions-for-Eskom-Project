{
 "cells": [
  {
   "cell_type": "markdown",
   "metadata": {
    "colab_type": "text",
    "id": "zVbVIfYheZP2"
   },
   "source": [
    "# Importinng and loading the  csv file "
   ]
  },
  {
   "cell_type": "code",
   "execution_count": 0,
   "metadata": {
    "colab": {},
    "colab_type": "code",
    "id": "HqUpMH6udmMs"
   },
   "outputs": [],
   "source": [
    "import numpy as np\n",
    "import pandas as pd"
   ]
  },
  {
   "cell_type": "code",
   "execution_count": 0,
   "metadata": {
    "colab": {},
    "colab_type": "code",
    "id": "2xKzlSnieN0g"
   },
   "outputs": [],
   "source": [
    "url = 'https://raw.githubusercontent.com/RidhaMoosa/eskom_data-/master/electrification_by_province.csv'\n",
    "ebp = pd.read_csv(url)\n",
    "\n",
    "for col, row in ebp.iloc[:,1:].iteritems():\n",
    "    ebp[col] = ebp[col].str.replace(',','').astype(int)\n",
    "\n",
    "limpopo = ebp['Limpopo'].to_list()\n",
    "limpopo = [float(x) for x in limpopo]\n",
    "\n",
    "mpumalanga = ebp['Mpumalanga'].to_list()\n",
    "mpumalanga = [float(x) for x in mpumalanga]\n",
    "\n",
    "north_west = ebp['North west'].to_list()\n",
    "north_west = [float(x) for x in north_west]\n",
    "\n",
    "free_state = ebp['Free State'].to_list()\n",
    "free_state = [float(x) for x in free_state]\n",
    "\n",
    "kwazulu_natal = ebp['Kwazulu Natal'].to_list()\n",
    "kwazulu_natal = [float(x) for x in kwazulu_natal]\n",
    "\n",
    "eastern_cape = ebp['Eastern Cape'].to_list()\n",
    "eastern_cape = [float(x) for x in eastern_cape]\n",
    "\n",
    "western_cape = ebp['Western Cape'].to_list()\n",
    "western_cape = [float(x) for x in western_cape]\n",
    "\n",
    "northern_cape = ebp['Northern Cape'].to_list()\n",
    "northern_cape = [float(x) for x in northern_cape]\n",
    "\n",
    "gauteng = ebp['Gauteng'].to_list()\n",
    "gauteng = [float(x) for x in gauteng]"
   ]
  },
  {
   "cell_type": "code",
   "execution_count": 0,
   "metadata": {
    "colab": {},
    "colab_type": "code",
    "id": "dO2WAeVZe6wa"
   },
   "outputs": [],
   "source": [
    "url = 'https://raw.githubusercontent.com/RidhaMoosa/eskom_data-/master/twitter_nov_2019.csv'\n",
    "twitter_df = pd.read_csv(url)\n",
    "\n",
    "dates = twitter_df['Date'].to_list()"
   ]
  },
  {
   "cell_type": "markdown",
   "metadata": {
    "colab_type": "text",
    "id": "0FCCWRFxe8VM"
   },
   "source": [
    "# Function 3: Date Parser\n",
    "\n",
    "Write a function which takes a **list of datetime strings** and converts it into a **list of strings with only the date**. "
   ]
  },
  {
   "cell_type": "code",
   "execution_count": 0,
   "metadata": {
    "colab": {},
    "colab_type": "code",
    "id": "QlQ4ErmFfA83"
   },
   "outputs": [],
   "source": [
    "\n",
    "def date_parser(list_dates):\n",
    "    \"\"\"date_parser(list_dates)\n",
    "\n",
    "      Return a list of Date strings.\n",
    "\n",
    "      Parameters\n",
    "      ----------\n",
    "      (list): list of datetime strings (REQUIRED)\n",
    "      \n",
    "      Return\n",
    "      ------\n",
    "      (list): list of Date strings.\n",
    "      \n",
    "      Examples\n",
    "      -------\n",
    "      >>>dates = ['2019-11-29 12:50:54',\n",
    "         '2019-11-29 12:46:53',\n",
    "         '2019-11-29 12:46:10',\n",
    "         '2019-11-29 12:33:36',\n",
    "         '2019-11-29 12:17:43',\n",
    "         '2019-11-29 11:28:40']\n",
    "\n",
    "      >>>date_parser(dates)\n",
    "      >>>['2019-11-29',\n",
    "          '2019-11-29',\n",
    "          '2019-11-29',\n",
    "          '2019-11-29',\n",
    "          '2019-11-29',\n",
    "          '2019-11-29']\n",
    "    \"\"\"\n",
    "    return [datetime.split()[0] for datetime in list_dates]"
   ]
  },
  {
   "cell_type": "code",
   "execution_count": 0,
   "metadata": {
    "colab": {},
    "colab_type": "code",
    "id": "cQTOGzLV0-6c"
   },
   "outputs": [],
   "source": [
    "date_parser(dates)"
   ]
  },
  {
   "cell_type": "code",
   "execution_count": 0,
   "metadata": {
    "colab": {
     "base_uri": "https://localhost:8080/",
     "height": 35
    },
    "colab_type": "code",
    "id": "p2P18ryvopa8",
    "outputId": "feb2d3c7-037a-4d2a-b967-3bce5dc92d60"
   },
   "outputs": [
    {
     "name": "stdout",
     "output_type": "stream",
     "text": [
      "10000 loops, best of 3: 34 µs per loop\n"
     ]
    }
   ],
   "source": [
    "%timeit date_parser(dates)"
   ]
  },
  {
   "cell_type": "markdown",
   "metadata": {
    "colab_type": "text",
    "id": "W08cye-E78iH"
   },
   "source": [
    "# Function 1: Metric Dictionary\n",
    "\n",
    "Write a function which takes in a list of integers and returns a dictionary of the mean, median, variance, standard deviation, min and max. Answers should be rounded to the second decimal."
   ]
  },
  {
   "cell_type": "code",
   "execution_count": 5,
   "metadata": {
    "colab": {
     "base_uri": "https://localhost:8080/",
     "height": 34
    },
    "colab_type": "code",
    "id": "k4BueDM1mdYy",
    "outputId": "29b8a36c-3c81-43fe-9d04-e65e84d88684"
   },
   "outputs": [
    {
     "name": "stdout",
     "output_type": "stream",
     "text": [
      "Exception reporting mode: Verbose\n"
     ]
    }
   ],
   "source": [
    "%xmode verbose"
   ]
  },
  {
   "cell_type": "code",
   "execution_count": 0,
   "metadata": {
    "colab": {},
    "colab_type": "code",
    "id": "04Yul5i08McL"
   },
   "outputs": [],
   "source": [
    "def dictionary_of_metrics(items: list ,precision: int = 2):\n",
    "  lenght =len(items)\n",
    "  items.sort()\n",
    "  mean = (sum(items)/lenght)\n",
    "  #variance =sum((item - mean)**2 for item in items)/(lenght-1)\n",
    "  #standard_deviation = (sum((item - mean)**2 for item in items)/(lenght-1))**0.5\n",
    "  #median = (items[lenght//2] + items[lenght//2 - 1])/2 if lenght % 2 ==0  else items[lenght//2]\n",
    "  return {'Mean': round(mean,precision),\n",
    "          'median': round((items[lenght//2] + items[lenght//2 - 1])/2 if lenght % 2 ==0  else items[lenght//2],precision),\n",
    "          'variance': round(sum((item - (sum(items)/lenght))**2 for item in items)/(lenght-1),precision),\n",
    "          'standard deviation': round((sum((item - mean)**2 for item in items)/(lenght-1))**0.5,precision),\n",
    "          'min': round(min(items),precision),\n",
    "          'max': round(max(items),precision),\n",
    "        }"
   ]
  },
  {
   "cell_type": "code",
   "execution_count": 9,
   "metadata": {
    "colab": {
     "base_uri": "https://localhost:8080/",
     "height": 119
    },
    "colab_type": "code",
    "id": "vBDttQVc-PYu",
    "outputId": "2862bdbd-8318-435e-ea32-05b7ea07b07e"
   },
   "outputs": [
    {
     "data": {
      "text/plain": [
       "{'Mean': 26244.42,\n",
       " 'max': 39660.0,\n",
       " 'median': 24403.5,\n",
       " 'min': 8842.0,\n",
       " 'standard deviation': 10400.01,\n",
       " 'variance': 108160153.17}"
      ]
     },
     "execution_count": 9,
     "metadata": {
      "tags": []
     },
     "output_type": "execute_result"
    }
   ],
   "source": [
    " dictionary_of_metrics(gauteng)"
   ]
  },
  {
   "cell_type": "code",
   "execution_count": 0,
   "metadata": {
    "colab": {
     "base_uri": "https://localhost:8080/",
     "height": 54
    },
    "colab_type": "code",
    "id": "ORtN_msaATGK",
    "outputId": "4e62e7c0-becc-485d-e929-65870abcf64d"
   },
   "outputs": [
    {
     "name": "stdout",
     "output_type": "stream",
     "text": [
      "The slowest run took 4.58 times longer than the fastest. This could mean that an intermediate result is being cached.\n",
      "100000 loops, best of 3: 10.4 µs per loop\n"
     ]
    }
   ],
   "source": [
    "%timeit dictionary_of_metrics(gauteng)"
   ]
  },
  {
   "cell_type": "code",
   "execution_count": null,
   "metadata": {},
   "outputs": [],
   "source": [
    "# Monique's attempt at Function 1\n",
    "def dictionary_of_metrics(items):\n",
    "    \n",
    "    \"\"\"DICTIONARY OF METRICS\n",
    "    Calculates and returns a dictionary of the mean, median, \n",
    "    variance, standard deviation, minumum and maximum values \n",
    "    for a given list.\n",
    "    \n",
    "    Parameters\n",
    "    ----------\n",
    "    items: list\n",
    "        The list for which the metrics will be calculated.\n",
    "    \n",
    "    Returns\n",
    "    -------\n",
    "    metrics_dict: dictionary\n",
    "        The dictionary which contains the calculated metrics \n",
    "        for the list.\n",
    "    \"\"\"\n",
    "    \n",
    "    # Calculate mean\n",
    "    mean = round(sum(items) / len(items), 2)\n",
    "    \n",
    "    # Calculate median\n",
    "    items_sorted = sorted(items)\n",
    "    median = 0\n",
    "\n",
    "    if len(items)%2==0:\n",
    "        median = round((items_sorted[int(len(items)/2)] + items_sorted[int(len(items)/2)-1]) / 2, 2)\n",
    "    else:\n",
    "        median = items_sorted[int((len(items)-1)/2)]\n",
    "    \n",
    "    # Calculate variance\n",
    "    variance = round(sum((i - mean) ** 2 for i in items) / (len(items) - 1), 2)\n",
    "    \n",
    "    # Calculate standard deviation\n",
    "    stdev = round(variance ** (1 / 2), 2)\n",
    "    \n",
    "    # Calculate minimum\n",
    "    minimum = round(min(items), 2)\n",
    "    \n",
    "    # Calculate maximum\n",
    "    maximum = round(max(items), 2)\n",
    "    \n",
    "    metrics_dict = {'mean': mean,\n",
    "         'median' : median,\n",
    "         'variance' : variance,\n",
    "         'standard deviation' : stdev,\n",
    "         'min' : minimum,\n",
    "         'max' : maximum}\n",
    "    \n",
    "    return metrics_dict"
   ]
  }
 ],
 "metadata": {
  "accelerator": "GPU",
  "colab": {
   "collapsed_sections": [
    "zVbVIfYheZP2"
   ],
   "name": "Eskom_Analyse_functions_draft.ipynb",
   "provenance": []
  },
  "kernelspec": {
   "display_name": "Python 3",
   "language": "python",
   "name": "python3"
  },
  "language_info": {
   "codemirror_mode": {
    "name": "ipython",
    "version": 3
   },
   "file_extension": ".py",
   "mimetype": "text/x-python",
   "name": "python",
   "nbconvert_exporter": "python",
   "pygments_lexer": "ipython3",
   "version": "3.6.8"
  }
 },
 "nbformat": 4,
 "nbformat_minor": 1
}
