{
  "nbformat": 4,
  "nbformat_minor": 0,
  "metadata": {
    "colab": {
      "name": "Eskom_Analyse_functions_draft.ipynb",
      "provenance": [],
      "collapsed_sections": [
        "zVbVIfYheZP2"
      ]
    },
    "kernelspec": {
      "name": "python3",
      "display_name": "Python 3"
    },
    "accelerator": "GPU"
  },
  "cells": [
    {
      "cell_type": "markdown",
      "metadata": {
        "id": "zVbVIfYheZP2",
        "colab_type": "text"
      },
      "source": [
        "# Importinng and loading the  csv file "
      ]
    },
    {
      "cell_type": "code",
      "metadata": {
        "id": "HqUpMH6udmMs",
        "colab_type": "code",
        "colab": {}
      },
      "source": [
        "import numpy as np\n",
        "import pandas as pd"
      ],
      "execution_count": 0,
      "outputs": []
    },
    {
      "cell_type": "code",
      "metadata": {
        "id": "2xKzlSnieN0g",
        "colab_type": "code",
        "colab": {}
      },
      "source": [
        "url = 'https://raw.githubusercontent.com/RidhaMoosa/eskom_data-/master/electrification_by_province.csv'\n",
        "ebp = pd.read_csv(url)\n",
        "\n",
        "for col, row in ebp.iloc[:,1:].iteritems():\n",
        "    ebp[col] = ebp[col].str.replace(',','').astype(int)\n",
        "\n",
        "limpopo = ebp['Limpopo'].to_list()\n",
        "limpopo = [float(x) for x in limpopo]\n",
        "\n",
        "mpumalanga = ebp['Mpumalanga'].to_list()\n",
        "mpumalanga = [float(x) for x in mpumalanga]\n",
        "\n",
        "north_west = ebp['North west'].to_list()\n",
        "north_west = [float(x) for x in north_west]\n",
        "\n",
        "free_state = ebp['Free State'].to_list()\n",
        "free_state = [float(x) for x in free_state]\n",
        "\n",
        "kwazulu_natal = ebp['Kwazulu Natal'].to_list()\n",
        "kwazulu_natal = [float(x) for x in kwazulu_natal]\n",
        "\n",
        "eastern_cape = ebp['Eastern Cape'].to_list()\n",
        "eastern_cape = [float(x) for x in eastern_cape]\n",
        "\n",
        "western_cape = ebp['Western Cape'].to_list()\n",
        "western_cape = [float(x) for x in western_cape]\n",
        "\n",
        "northern_cape = ebp['Northern Cape'].to_list()\n",
        "northern_cape = [float(x) for x in northern_cape]\n",
        "\n",
        "gauteng = ebp['Gauteng'].to_list()\n",
        "gauteng = [float(x) for x in gauteng]"
      ],
      "execution_count": 0,
      "outputs": []
    },
    {
      "cell_type": "code",
      "metadata": {
        "id": "dO2WAeVZe6wa",
        "colab_type": "code",
        "colab": {}
      },
      "source": [
        "url = 'https://raw.githubusercontent.com/RidhaMoosa/eskom_data-/master/twitter_nov_2019.csv'\n",
        "twitter_df = pd.read_csv(url)\n",
        "\n",
        "dates = twitter_df['Date'].to_list()"
      ],
      "execution_count": 0,
      "outputs": []
    },
    {
      "cell_type": "markdown",
      "metadata": {
        "id": "0FCCWRFxe8VM",
        "colab_type": "text"
      },
      "source": [
        "# Function 3: Date Parser\n",
        "\n",
        "Write a function which takes a **list of datetime strings** and converts it into a **list of strings with only the date**. "
      ]
    },
    {
      "cell_type": "code",
      "metadata": {
        "id": "QlQ4ErmFfA83",
        "colab_type": "code",
        "colab": {}
      },
      "source": [
        "\n",
        "def date_parser(list_dates):\n",
        "    \"\"\"date_parser(list_dates)\n",
        "\n",
        "      Return a list of Date strings.\n",
        "\n",
        "      Parameters\n",
        "      ----------\n",
        "      (list): list of datetime strings (REQUIRED)\n",
        "      \n",
        "      Return\n",
        "      ------\n",
        "      (list): list of Date strings.\n",
        "      \n",
        "      Examples\n",
        "      -------\n",
        "      >>>dates = ['2019-11-29 12:50:54',\n",
        "         '2019-11-29 12:46:53',\n",
        "         '2019-11-29 12:46:10',\n",
        "         '2019-11-29 12:33:36',\n",
        "         '2019-11-29 12:17:43',\n",
        "         '2019-11-29 11:28:40']\n",
        "\n",
        "      >>>date_parser(dates)\n",
        "      >>>['2019-11-29',\n",
        "          '2019-11-29',\n",
        "          '2019-11-29',\n",
        "          '2019-11-29',\n",
        "          '2019-11-29',\n",
        "          '2019-11-29']\n",
        "    \"\"\"\n",
        "    return [datetime.split()[0] for datetime in list_dates]"
      ],
      "execution_count": 0,
      "outputs": []
    },
    {
      "cell_type": "code",
      "metadata": {
        "id": "cQTOGzLV0-6c",
        "colab_type": "code",
        "colab": {}
      },
      "source": [
        "date_parser(dates)"
      ],
      "execution_count": 0,
      "outputs": []
    },
    {
      "cell_type": "code",
      "metadata": {
        "id": "p2P18ryvopa8",
        "colab_type": "code",
        "outputId": "feb2d3c7-037a-4d2a-b967-3bce5dc92d60",
        "colab": {
          "base_uri": "https://localhost:8080/",
          "height": 35
        }
      },
      "source": [
        "%timeit date_parser(dates)"
      ],
      "execution_count": 0,
      "outputs": [
        {
          "output_type": "stream",
          "text": [
            "10000 loops, best of 3: 34 µs per loop\n"
          ],
          "name": "stdout"
        }
      ]
    },
    {
      "cell_type": "markdown",
      "metadata": {
        "id": "W08cye-E78iH",
        "colab_type": "text"
      },
      "source": [
        "# Function 1: Metric Dictionary\n",
        "\n",
        "Write a function which takes in a list of integers and returns a dictionary of the mean, median, variance, standard deviation, min and max. Answers should be rounded to the second decimal."
      ]
    },
    {
      "cell_type": "code",
      "metadata": {
        "id": "k4BueDM1mdYy",
        "colab_type": "code",
        "outputId": "29b8a36c-3c81-43fe-9d04-e65e84d88684",
        "colab": {
          "base_uri": "https://localhost:8080/",
          "height": 34
        }
      },
      "source": [
        "%xmode verbose"
      ],
      "execution_count": 5,
      "outputs": [
        {
          "output_type": "stream",
          "text": [
            "Exception reporting mode: Verbose\n"
          ],
          "name": "stdout"
        }
      ]
    },
    {
      "cell_type": "code",
      "metadata": {
        "id": "04Yul5i08McL",
        "colab_type": "code",
        "colab": {}
      },
      "source": [
        "def dictionary_of_metrics(items: list ,precision: int = 2):\n",
        "  lenght =len(items)\n",
        "  items.sort()\n",
        "  mean = (sum(items)/lenght)\n",
        "  #variance =sum((item - mean)**2 for item in items)/(lenght-1)\n",
        "  #standard_deviation = (sum((item - mean)**2 for item in items)/(lenght-1))**0.5\n",
        "  #median = (items[lenght//2] + items[lenght//2 - 1])/2 if lenght % 2 ==0  else items[lenght//2]\n",
        "  return {'Mean': round(mean,precision),\n",
        "          'median': round((items[lenght//2] + items[lenght//2 - 1])/2 if lenght % 2 ==0  else items[lenght//2],precision),\n",
        "          'variance': round(sum((item - (sum(items)/lenght))**2 for item in items)/(lenght-1),precision),\n",
        "          'standard deviation': round((sum((item - mean)**2 for item in items)/(lenght-1))**0.5,precision),\n",
        "          'min': round(min(items),precision),\n",
        "          'max': round(max(items),precision),\n",
        "        }"
      ],
      "execution_count": 0,
      "outputs": []
    },
    {
      "cell_type": "code",
      "metadata": {
        "id": "vBDttQVc-PYu",
        "colab_type": "code",
        "outputId": "2862bdbd-8318-435e-ea32-05b7ea07b07e",
        "colab": {
          "base_uri": "https://localhost:8080/",
          "height": 119
        }
      },
      "source": [
        " dictionary_of_metrics(gauteng)"
      ],
      "execution_count": 9,
      "outputs": [
        {
          "output_type": "execute_result",
          "data": {
            "text/plain": [
              "{'Mean': 26244.42,\n",
              " 'max': 39660.0,\n",
              " 'median': 24403.5,\n",
              " 'min': 8842.0,\n",
              " 'standard deviation': 10400.01,\n",
              " 'variance': 108160153.17}"
            ]
          },
          "metadata": {
            "tags": []
          },
          "execution_count": 9
        }
      ]
    },
    {
      "cell_type": "code",
      "metadata": {
        "id": "ORtN_msaATGK",
        "colab_type": "code",
        "outputId": "4e62e7c0-becc-485d-e929-65870abcf64d",
        "colab": {
          "base_uri": "https://localhost:8080/",
          "height": 54
        }
      },
      "source": [
        "%timeit dictionary_of_metrics(gauteng)"
      ],
      "execution_count": 0,
      "outputs": [
        {
          "output_type": "stream",
          "text": [
            "The slowest run took 4.58 times longer than the fastest. This could mean that an intermediate result is being cached.\n",
            "100000 loops, best of 3: 10.4 µs per loop\n"
          ],
          "name": "stdout"
        }
      ]
    }
  ]
}